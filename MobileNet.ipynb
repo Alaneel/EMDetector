{
 "cells": [
  {
   "cell_type": "code",
   "execution_count": 1,
   "metadata": {},
   "outputs": [
    {
     "ename": "ModuleNotFoundError",
     "evalue": "No module named 'tensorflow'",
     "output_type": "error",
     "traceback": [
      "\u001b[0;31m---------------------------------------------------------------------------\u001b[0m",
      "\u001b[0;31mModuleNotFoundError\u001b[0m                       Traceback (most recent call last)",
      "Cell \u001b[0;32mIn[1], line 1\u001b[0m\n\u001b[0;32m----> 1\u001b[0m \u001b[38;5;28;01mfrom\u001b[39;00m \u001b[38;5;21;01mkeras\u001b[39;00m\u001b[38;5;21;01m.\u001b[39;00m\u001b[38;5;21;01mpreprocessing\u001b[39;00m\u001b[38;5;21;01m.\u001b[39;00m\u001b[38;5;21;01mimage\u001b[39;00m \u001b[38;5;28;01mimport\u001b[39;00m ImageDataGenerator\n\u001b[1;32m      2\u001b[0m \u001b[38;5;28;01mfrom\u001b[39;00m \u001b[38;5;21;01mkeras\u001b[39;00m\u001b[38;5;21;01m.\u001b[39;00m\u001b[38;5;21;01mapplications\u001b[39;00m \u001b[38;5;28;01mimport\u001b[39;00m MobileNetV2\n\u001b[1;32m      3\u001b[0m \u001b[38;5;28;01mfrom\u001b[39;00m \u001b[38;5;21;01mkeras\u001b[39;00m\u001b[38;5;21;01m.\u001b[39;00m\u001b[38;5;21;01mlayers\u001b[39;00m \u001b[38;5;28;01mimport\u001b[39;00m AveragePooling2D, Dropout, Flatten, Dense, Input, GlobalAveragePooling2D, Conv2D, MaxPooling2D\n",
      "File \u001b[0;32m~/opt/anaconda3/lib/python3.9/site-packages/keras/__init__.py:21\u001b[0m\n\u001b[1;32m     15\u001b[0m \u001b[39m\"\"\"Implementation of the Keras API, the high-level API of TensorFlow.\u001b[39;00m\n\u001b[1;32m     16\u001b[0m \n\u001b[1;32m     17\u001b[0m \u001b[39mDetailed documentation and user guides are available at\u001b[39;00m\n\u001b[1;32m     18\u001b[0m \u001b[39m[keras.io](https://keras.io).\u001b[39;00m\n\u001b[1;32m     19\u001b[0m \u001b[39m\"\"\"\u001b[39;00m\n\u001b[1;32m     20\u001b[0m \u001b[39mfrom\u001b[39;00m \u001b[39mkeras\u001b[39;00m \u001b[39mimport\u001b[39;00m distribute\n\u001b[0;32m---> 21\u001b[0m \u001b[39mfrom\u001b[39;00m \u001b[39mkeras\u001b[39;00m \u001b[39mimport\u001b[39;00m models\n\u001b[1;32m     22\u001b[0m \u001b[39mfrom\u001b[39;00m \u001b[39mkeras\u001b[39;00m\u001b[39m.\u001b[39;00m\u001b[39mengine\u001b[39;00m\u001b[39m.\u001b[39;00m\u001b[39minput_layer\u001b[39;00m \u001b[39mimport\u001b[39;00m Input\n\u001b[1;32m     23\u001b[0m \u001b[39mfrom\u001b[39;00m \u001b[39mkeras\u001b[39;00m\u001b[39m.\u001b[39;00m\u001b[39mengine\u001b[39;00m\u001b[39m.\u001b[39;00m\u001b[39msequential\u001b[39;00m \u001b[39mimport\u001b[39;00m Sequential\n",
      "File \u001b[0;32m~/opt/anaconda3/lib/python3.9/site-packages/keras/models/__init__.py:18\u001b[0m\n\u001b[1;32m      1\u001b[0m \u001b[39m# Copyright 2022 The TensorFlow Authors. All Rights Reserved.\u001b[39;00m\n\u001b[1;32m      2\u001b[0m \u001b[39m#\u001b[39;00m\n\u001b[1;32m      3\u001b[0m \u001b[39m# Licensed under the Apache License, Version 2.0 (the \"License\");\u001b[39;00m\n\u001b[0;32m   (...)\u001b[0m\n\u001b[1;32m     13\u001b[0m \u001b[39m# limitations under the License.\u001b[39;00m\n\u001b[1;32m     14\u001b[0m \u001b[39m# ==============================================================================\u001b[39;00m\n\u001b[1;32m     15\u001b[0m \u001b[39m\"\"\"Keras models API.\"\"\"\u001b[39;00m\n\u001b[0;32m---> 18\u001b[0m \u001b[39mfrom\u001b[39;00m \u001b[39mkeras\u001b[39;00m\u001b[39m.\u001b[39;00m\u001b[39mengine\u001b[39;00m\u001b[39m.\u001b[39;00m\u001b[39mfunctional\u001b[39;00m \u001b[39mimport\u001b[39;00m Functional\n\u001b[1;32m     19\u001b[0m \u001b[39mfrom\u001b[39;00m \u001b[39mkeras\u001b[39;00m\u001b[39m.\u001b[39;00m\u001b[39mengine\u001b[39;00m\u001b[39m.\u001b[39;00m\u001b[39msequential\u001b[39;00m \u001b[39mimport\u001b[39;00m Sequential\n\u001b[1;32m     20\u001b[0m \u001b[39mfrom\u001b[39;00m \u001b[39mkeras\u001b[39;00m\u001b[39m.\u001b[39;00m\u001b[39mengine\u001b[39;00m\u001b[39m.\u001b[39;00m\u001b[39mtraining\u001b[39;00m \u001b[39mimport\u001b[39;00m Model\n",
      "File \u001b[0;32m~/opt/anaconda3/lib/python3.9/site-packages/keras/engine/functional.py:24\u001b[0m\n\u001b[1;32m     21\u001b[0m \u001b[39mimport\u001b[39;00m \u001b[39mitertools\u001b[39;00m\n\u001b[1;32m     22\u001b[0m \u001b[39mimport\u001b[39;00m \u001b[39mwarnings\u001b[39;00m\n\u001b[0;32m---> 24\u001b[0m \u001b[39mimport\u001b[39;00m \u001b[39mtensorflow\u001b[39;00m\u001b[39m.\u001b[39;00m\u001b[39mcompat\u001b[39;00m\u001b[39m.\u001b[39;00m\u001b[39mv2\u001b[39;00m \u001b[39mas\u001b[39;00m \u001b[39mtf\u001b[39;00m\n\u001b[1;32m     26\u001b[0m \u001b[39mfrom\u001b[39;00m \u001b[39mkeras\u001b[39;00m \u001b[39mimport\u001b[39;00m backend\n\u001b[1;32m     27\u001b[0m \u001b[39mfrom\u001b[39;00m \u001b[39mkeras\u001b[39;00m\u001b[39m.\u001b[39;00m\u001b[39mdtensor\u001b[39;00m \u001b[39mimport\u001b[39;00m layout_map \u001b[39mas\u001b[39;00m layout_map_lib\n",
      "\u001b[0;31mModuleNotFoundError\u001b[0m: No module named 'tensorflow'"
     ]
    }
   ],
   "source": [
    "from keras.preprocessing.image import ImageDataGenerator\n",
    "from keras.applications import MobileNetV2\n",
    "from keras.layers import AveragePooling2D, Dropout, Flatten, Dense, Input, GlobalAveragePooling2D, Conv2D, MaxPooling2D\n",
    "from keras import regularizers\n",
    "from keras.models import Model, Sequential\n",
    "from keras.optimizers import Adam\n",
    "from keras.applications.mobilenet_v2 import preprocess_input\n",
    "from sklearn.metrics import classification_report, confusion_matrix\n",
    "import matplotlib.pyplot as plt\n",
    "import numpy as np\n",
    "import pickle\n",
    "from keras.callbacks import ModelCheckpoint, EarlyStopping, ReduceLROnPlateau\n",
    "import cv2\n",
    "from keras.models import load_model\n",
    "from PyFunctions import Viz\n",
    "from PyFunctions import Functions as func"
   ]
  },
  {
   "cell_type": "code",
   "execution_count": 2,
   "metadata": {},
   "outputs": [
    {
     "name": "stdout",
     "output_type": "stream",
     "text": [
      "TRAIN Value Counts\n",
      "1    5000\n",
      "0    5000\n",
      "dtype: int64\n",
      "~~~~~~~~~~~~~~~~~~~~~~~~~~~~~~~~~~~~~~~~~~~~~\n",
      "TEST Value Counts\n",
      "0    509\n",
      "1    483\n",
      "dtype: int64\n",
      "~~~~~~~~~~~~~~~~~~~~~~~~~~~~~~~~~~~~~~~~~~~~~\n",
      "VALIDATION Value Counts\n",
      "1    400\n",
      "0    400\n",
      "dtype: int64\n",
      "~~~~~~~~~~~~~~~~~~~~~~~~~~~~~~~~~~~~~~~~~~~~~\n"
     ]
    }
   ],
   "source": [
    "dim = (224, 224)\n",
    "\n",
    "x_train, x_test, y_train, y_test, x_val, y_val = func.get_mask_splits(dim)"
   ]
  },
  {
   "cell_type": "code",
   "execution_count": 3,
   "metadata": {},
   "outputs": [],
   "source": [
    "def get_mobilenet(dim):\n",
    "    model = Sequential()\n",
    "    optimizer = Adam(lr = .0005)\n",
    "    baseModel = MobileNetV2(weights = 'imagenet', include_top = False, input_tensor = Input(shape = dim))\n",
    "\n",
    "    model.add(baseModel)\n",
    "    model.add(AveragePooling2D(pool_size = (7, 7)))\n",
    "    model.add(Flatten(name = 'flatten'))\n",
    "    model.add(Dense(256, activation = 'relu'))\n",
    "    model.add(Dropout(0.6))\n",
    "    model.add(Dense(2, activation = 'sigmoid', name = 'Output'))\n",
    "\n",
    "    for layer in baseModel.layers:\n",
    "        layer.trainable = False\n",
    "    \n",
    "    model.compile(loss = 'binary_crossentropy', optimizer = optimizer, metrics = ['accuracy'])\n",
    "    return model\n",
    "    "
   ]
  },
  {
   "cell_type": "code",
   "execution_count": 4,
   "metadata": {},
   "outputs": [
    {
     "name": "stdout",
     "output_type": "stream",
     "text": [
      "WARNING:tensorflow:`input_shape` is undefined or non-square, or `rows` is not in [96, 128, 160, 192, 224]. Weights for input shape (224, 224) will be loaded as the default.\n"
     ]
    },
    {
     "name": "stderr",
     "output_type": "stream",
     "text": [
      "2023-02-18 18:27:30.065520: I tensorflow/core/platform/cpu_feature_guard.cc:193] This TensorFlow binary is optimized with oneAPI Deep Neural Network Library (oneDNN) to use the following CPU instructions in performance-critical operations:  SSE4.1 SSE4.2\n",
      "To enable them in other operations, rebuild TensorFlow with the appropriate compiler flags.\n",
      "/Users/alanwang/opt/anaconda3/lib/python3.9/site-packages/keras/optimizers/optimizer_v2/adam.py:114: UserWarning: The `lr` argument is deprecated, use `learning_rate` instead.\n",
      "  super().__init__(name, **kwargs)\n",
      "/var/folders/g9/s15kjggj0bb9t_61f58dny800000gn/T/ipykernel_23328/223381710.py:11: UserWarning: `Model.fit_generator` is deprecated and will be removed in a future version. Please use `Model.fit`, which supports generators.\n",
      "  augmentation_history = mobilenet.fit_generator(augmentation.flow(x_train, y_train, batch_size = batch_size), epochs = epochs, callbacks = [early_stopping, model_checkpoint, lr_plot], validation_data = [x_test, y_test], verbose = 1)\n"
     ]
    },
    {
     "name": "stdout",
     "output_type": "stream",
     "text": [
      "Epoch 1/2000\n",
      "157/157 [==============================] - ETA: 0s - loss: 0.1187 - accuracy: 0.9582\n",
      "Epoch 1: val_loss improved from inf to 0.04306, saving model to ModelWeights/Mobilenet_Masks.h5\n",
      "157/157 [==============================] - 203s 1s/step - loss: 0.1187 - accuracy: 0.9582 - val_loss: 0.0431 - val_accuracy: 0.9819 - lr: 5.0000e-04\n",
      "Epoch 2/2000\n",
      "157/157 [==============================] - ETA: 0s - loss: 0.0510 - accuracy: 0.9840\n",
      "Epoch 2: val_loss improved from 0.04306 to 0.03308, saving model to ModelWeights/Mobilenet_Masks.h5\n",
      "157/157 [==============================] - 194s 1s/step - loss: 0.0510 - accuracy: 0.9840 - val_loss: 0.0331 - val_accuracy: 0.9899 - lr: 5.0000e-04\n",
      "Epoch 3/2000\n",
      "157/157 [==============================] - ETA: 0s - loss: 0.0349 - accuracy: 0.9886\n",
      "Epoch 3: val_loss did not improve from 0.03308\n",
      "157/157 [==============================] - 187s 1s/step - loss: 0.0349 - accuracy: 0.9886 - val_loss: 0.0378 - val_accuracy: 0.9839 - lr: 5.0000e-04\n",
      "Epoch 4/2000\n",
      "157/157 [==============================] - ETA: 0s - loss: 0.0339 - accuracy: 0.9889\n",
      "Epoch 4: val_loss improved from 0.03308 to 0.02992, saving model to ModelWeights/Mobilenet_Masks.h5\n",
      "157/157 [==============================] - 194s 1s/step - loss: 0.0339 - accuracy: 0.9889 - val_loss: 0.0299 - val_accuracy: 0.9929 - lr: 5.0000e-04\n",
      "Epoch 5/2000\n",
      "157/157 [==============================] - ETA: 0s - loss: 0.0293 - accuracy: 0.9912\n",
      "Epoch 5: val_loss improved from 0.02992 to 0.01894, saving model to ModelWeights/Mobilenet_Masks.h5\n",
      "157/157 [==============================] - 199s 1s/step - loss: 0.0293 - accuracy: 0.9912 - val_loss: 0.0189 - val_accuracy: 0.9929 - lr: 5.0000e-04\n",
      "Epoch 6/2000\n",
      "157/157 [==============================] - ETA: 0s - loss: 0.0263 - accuracy: 0.9904\n",
      "Epoch 6: val_loss improved from 0.01894 to 0.01770, saving model to ModelWeights/Mobilenet_Masks.h5\n",
      "157/157 [==============================] - 193s 1s/step - loss: 0.0263 - accuracy: 0.9904 - val_loss: 0.0177 - val_accuracy: 0.9940 - lr: 5.0000e-04\n",
      "Epoch 7/2000\n",
      "157/157 [==============================] - ETA: 0s - loss: 0.0254 - accuracy: 0.9915\n",
      "Epoch 7: val_loss did not improve from 0.01770\n",
      "157/157 [==============================] - 193s 1s/step - loss: 0.0254 - accuracy: 0.9915 - val_loss: 0.0196 - val_accuracy: 0.9919 - lr: 5.0000e-04\n",
      "Epoch 8/2000\n",
      "157/157 [==============================] - ETA: 0s - loss: 0.0259 - accuracy: 0.9908\n",
      "Epoch 8: val_loss improved from 0.01770 to 0.01645, saving model to ModelWeights/Mobilenet_Masks.h5\n",
      "157/157 [==============================] - 191s 1s/step - loss: 0.0259 - accuracy: 0.9908 - val_loss: 0.0164 - val_accuracy: 0.9960 - lr: 5.0000e-04\n",
      "Epoch 9/2000\n",
      "157/157 [==============================] - ETA: 0s - loss: 0.0198 - accuracy: 0.9928\n",
      "Epoch 9: val_loss did not improve from 0.01645\n",
      "157/157 [==============================] - 189s 1s/step - loss: 0.0198 - accuracy: 0.9928 - val_loss: 0.0170 - val_accuracy: 0.9960 - lr: 5.0000e-04\n",
      "Epoch 10/2000\n",
      "157/157 [==============================] - ETA: 0s - loss: 0.0218 - accuracy: 0.9925\n",
      "Epoch 10: val_loss improved from 0.01645 to 0.01504, saving model to ModelWeights/Mobilenet_Masks.h5\n",
      "157/157 [==============================] - 191s 1s/step - loss: 0.0218 - accuracy: 0.9925 - val_loss: 0.0150 - val_accuracy: 0.9950 - lr: 5.0000e-04\n",
      "Epoch 11/2000\n",
      "157/157 [==============================] - ETA: 0s - loss: 0.0220 - accuracy: 0.9916\n",
      "Epoch 11: val_loss did not improve from 0.01504\n",
      "157/157 [==============================] - 193s 1s/step - loss: 0.0220 - accuracy: 0.9916 - val_loss: 0.0150 - val_accuracy: 0.9970 - lr: 5.0000e-04\n",
      "Epoch 12/2000\n",
      "157/157 [==============================] - ETA: 0s - loss: 0.0241 - accuracy: 0.9916\n",
      "Epoch 12: val_loss did not improve from 0.01504\n",
      "157/157 [==============================] - 191s 1s/step - loss: 0.0241 - accuracy: 0.9916 - val_loss: 0.0293 - val_accuracy: 0.9879 - lr: 5.0000e-04\n",
      "Epoch 13/2000\n",
      "157/157 [==============================] - ETA: 0s - loss: 0.0183 - accuracy: 0.9941\n",
      "Epoch 13: val_loss did not improve from 0.01504\n",
      "157/157 [==============================] - 199s 1s/step - loss: 0.0183 - accuracy: 0.9941 - val_loss: 0.0157 - val_accuracy: 0.9940 - lr: 5.0000e-04\n",
      "Epoch 14/2000\n",
      "157/157 [==============================] - ETA: 0s - loss: 0.0212 - accuracy: 0.9926\n",
      "Epoch 14: val_loss did not improve from 0.01504\n",
      "157/157 [==============================] - 194s 1s/step - loss: 0.0212 - accuracy: 0.9926 - val_loss: 0.0396 - val_accuracy: 0.9849 - lr: 5.0000e-04\n",
      "Epoch 15/2000\n",
      "157/157 [==============================] - ETA: 0s - loss: 0.0217 - accuracy: 0.9933\n",
      "Epoch 15: val_loss improved from 0.01504 to 0.01289, saving model to ModelWeights/Mobilenet_Masks.h5\n",
      "157/157 [==============================] - 188s 1s/step - loss: 0.0217 - accuracy: 0.9933 - val_loss: 0.0129 - val_accuracy: 0.9960 - lr: 5.0000e-04\n",
      "Epoch 16/2000\n",
      "157/157 [==============================] - ETA: 0s - loss: 0.0176 - accuracy: 0.9940\n",
      "Epoch 16: val_loss did not improve from 0.01289\n",
      "157/157 [==============================] - 189s 1s/step - loss: 0.0176 - accuracy: 0.9940 - val_loss: 0.0207 - val_accuracy: 0.9919 - lr: 5.0000e-04\n",
      "Epoch 17/2000\n",
      "157/157 [==============================] - ETA: 0s - loss: 0.0191 - accuracy: 0.9930\n",
      "Epoch 17: val_loss did not improve from 0.01289\n",
      "157/157 [==============================] - 188s 1s/step - loss: 0.0191 - accuracy: 0.9930 - val_loss: 0.0156 - val_accuracy: 0.9960 - lr: 5.0000e-04\n",
      "Epoch 18/2000\n",
      "157/157 [==============================] - ETA: 0s - loss: 0.0173 - accuracy: 0.9947\n",
      "Epoch 18: val_loss improved from 0.01289 to 0.01284, saving model to ModelWeights/Mobilenet_Masks.h5\n",
      "157/157 [==============================] - 192s 1s/step - loss: 0.0173 - accuracy: 0.9947 - val_loss: 0.0128 - val_accuracy: 0.9970 - lr: 5.0000e-04\n",
      "Epoch 19/2000\n",
      "157/157 [==============================] - ETA: 0s - loss: 0.0138 - accuracy: 0.9946\n",
      "Epoch 19: val_loss did not improve from 0.01284\n",
      "157/157 [==============================] - 188s 1s/step - loss: 0.0138 - accuracy: 0.9946 - val_loss: 0.0369 - val_accuracy: 0.9859 - lr: 5.0000e-04\n",
      "Epoch 20/2000\n",
      "157/157 [==============================] - ETA: 0s - loss: 0.0170 - accuracy: 0.9948\n",
      "Epoch 20: val_loss did not improve from 0.01284\n",
      "157/157 [==============================] - 188s 1s/step - loss: 0.0170 - accuracy: 0.9948 - val_loss: 0.0147 - val_accuracy: 0.9970 - lr: 5.0000e-04\n",
      "Epoch 20: early stopping\n"
     ]
    }
   ],
   "source": [
    "early_stopping = EarlyStopping(monitor = 'val_loss', verbose = 1, patience = 5, min_delta = .00075)\n",
    "model_checkpoint = ModelCheckpoint(f'ModelWeights/Mobilenet_Masks.h5', verbose = 1, save_best_only = True, monitor = 'val_loss')\n",
    "lr_plot = ReduceLROnPlateau(patience = 5, mode = 'min')\n",
    "epochs = 2000\n",
    "batch_size = 64\n",
    "\n",
    "dim = (x_train.shape[1], x_train.shape[2], x_train.shape[3])\n",
    "mobilenet = get_mobilenet(dim = dim)\n",
    "\n",
    "augmentation = ImageDataGenerator(rotation_range = 20, width_shift_range = .2, height_shift_range = .2, horizontal_flip = True, shear_range = .15, fill_mode = 'nearest', zoom_range = .15)\n",
    "augmentation_history = mobilenet.fit_generator(augmentation.flow(x_train, y_train, batch_size = batch_size), epochs = epochs, callbacks = [early_stopping, model_checkpoint, lr_plot], validation_data = [x_test, y_test], verbose = 1)"
   ]
  },
  {
   "cell_type": "code",
   "execution_count": 13,
   "metadata": {},
   "outputs": [
    {
     "ename": "KeyError",
     "evalue": "'acc'",
     "output_type": "error",
     "traceback": [
      "\u001b[0;31m---------------------------------------------------------------------------\u001b[0m",
      "\u001b[0;31mKeyError\u001b[0m                                  Traceback (most recent call last)",
      "\u001b[0;32m/var/folders/g9/s15kjggj0bb9t_61f58dny800000gn/T/ipykernel_23328/789138210.py\u001b[0m in \u001b[0;36m<module>\u001b[0;34m\u001b[0m\n\u001b[0;32m----> 1\u001b[0;31m \u001b[0mViz\u001b[0m\u001b[0;34m.\u001b[0m\u001b[0mplot_loss_accuracy\u001b[0m\u001b[0;34m(\u001b[0m\u001b[0maugmentation_history\u001b[0m\u001b[0;34m,\u001b[0m \u001b[0;34m'dark_background'\u001b[0m\u001b[0;34m,\u001b[0m \u001b[0mpath\u001b[0m \u001b[0;34m=\u001b[0m \u001b[0;34m'Images/Mobilenet_Loss_Acc.png'\u001b[0m\u001b[0;34m)\u001b[0m\u001b[0;34m\u001b[0m\u001b[0;34m\u001b[0m\u001b[0m\n\u001b[0m",
      "\u001b[0;32m~/Desktop/大学课程/Code/Microsoft/Practice/face/PyFunctions/Viz.py\u001b[0m in \u001b[0;36mplot_loss_accuracy\u001b[0;34m(model_history, theme, path)\u001b[0m\n\u001b[1;32m     12\u001b[0m     \u001b[0mplt\u001b[0m\u001b[0;34m.\u001b[0m\u001b[0mstyle\u001b[0m\u001b[0;34m.\u001b[0m\u001b[0muse\u001b[0m\u001b[0;34m(\u001b[0m\u001b[0mtheme\u001b[0m\u001b[0;34m)\u001b[0m\u001b[0;34m\u001b[0m\u001b[0;34m\u001b[0m\u001b[0m\n\u001b[1;32m     13\u001b[0m     \u001b[0mtrain_loss\u001b[0m \u001b[0;34m=\u001b[0m \u001b[0mmodel_history\u001b[0m\u001b[0;34m.\u001b[0m\u001b[0mhistory\u001b[0m\u001b[0;34m[\u001b[0m\u001b[0;34m'loss'\u001b[0m\u001b[0;34m]\u001b[0m\u001b[0;34m\u001b[0m\u001b[0;34m\u001b[0m\u001b[0m\n\u001b[0;32m---> 14\u001b[0;31m     \u001b[0mtrain_acc\u001b[0m \u001b[0;34m=\u001b[0m \u001b[0mmodel_history\u001b[0m\u001b[0;34m.\u001b[0m\u001b[0mhistory\u001b[0m\u001b[0;34m[\u001b[0m\u001b[0;34m'acc'\u001b[0m\u001b[0;34m]\u001b[0m\u001b[0;34m\u001b[0m\u001b[0;34m\u001b[0m\u001b[0m\n\u001b[0m\u001b[1;32m     15\u001b[0m     \u001b[0mtest_loss\u001b[0m \u001b[0;34m=\u001b[0m \u001b[0mmodel_history\u001b[0m\u001b[0;34m.\u001b[0m\u001b[0mhistory\u001b[0m\u001b[0;34m[\u001b[0m\u001b[0;34m'val_loss'\u001b[0m\u001b[0;34m]\u001b[0m\u001b[0;34m\u001b[0m\u001b[0;34m\u001b[0m\u001b[0m\n\u001b[1;32m     16\u001b[0m     \u001b[0mtest_acc\u001b[0m \u001b[0;34m=\u001b[0m \u001b[0mmodel_history\u001b[0m\u001b[0;34m.\u001b[0m\u001b[0mhistory\u001b[0m\u001b[0;34m[\u001b[0m\u001b[0;34m'val_acc'\u001b[0m\u001b[0;34m]\u001b[0m\u001b[0;34m\u001b[0m\u001b[0;34m\u001b[0m\u001b[0m\n",
      "\u001b[0;31mKeyError\u001b[0m: 'acc'"
     ]
    }
   ],
   "source": [
    "Viz.plot_loss_accuracy(augmentation_history, 'dark_background', path = 'Images/Mobilenet_Loss_Acc.png')"
   ]
  },
  {
   "cell_type": "code",
   "execution_count": 8,
   "metadata": {},
   "outputs": [
    {
     "name": "stdout",
     "output_type": "stream",
     "text": [
      "25/25 [==============================] - 9s 341ms/step\n",
      "F1 Scores Test\n",
      "~~~~~~~~~~~~~~~~~~~\n",
      "No Mask(0): 0.9962453066332916\n",
      "Mask(1): 0.9962546816479401\n"
     ]
    },
    {
     "data": {
      "image/png": "[encoded data removed]",
      "text/plain": [
       "<Figure size 800x500 with 1 Axes>"
      ]
     },
     "metadata": {},
     "output_type": "display_data"
    }
   ],
   "source": [
    "mobilenet = load_model('ModelWeights/Mobilenet_Masks.h5')\n",
    "Viz.plot_roc_auc(mobilenet, x_val, y_val, 'dark_background', 'mask', path = 'Images/Mobilenet_ROC.png')"
   ]
  },
  {
   "cell_type": "code",
   "execution_count": 10,
   "metadata": {},
   "outputs": [
    {
     "name": "stdout",
     "output_type": "stream",
     "text": [
      "31/31 [==============================] - 11s 334ms/step\n",
      "25/25 [==============================] - 9s 350ms/step\n"
     ]
    },
    {
     "data": {
      "image/png": "[encoded data removed]",
      "text/plain": [
       "<Figure size 800x800 with 2 Axes>"
      ]
     },
     "metadata": {},
     "output_type": "display_data"
    }
   ],
   "source": [
    "mobilenet = load_model('ModelWeights/Mobilenet_Masks.h5')\n",
    "y_test_prob = [np.argmax(i) for i in mobilenet.predict(x_test)]\n",
    "y_test_labels = [np.argmax(i) for i in y_test]\n",
    "test_cnf = confusion_matrix(y_test_labels, y_test_prob)\n",
    "\n",
    "val_prob = [np.argmax(i) for i in mobilenet.predict(x_val)]\n",
    "val_labels = [np.argmax(i) for i in y_val]\n",
    "val_cnf = confusion_matrix(val_labels, val_prob)\n",
    "\n",
    "# this function creates a confusion matrix given the confusion matrices of test and train\n",
    "Viz.plot_model_cm(test_cnf, val_cnf, classes = ['No Mask', 'Mask'], theme = 'dark_background', model_type = 'mask', path = 'Images/Mobilenet_CM.png')"
   ]
  },
  {
   "cell_type": "code",
   "execution_count": 11,
   "metadata": {},
   "outputs": [
    {
     "ename": "AssertionError",
     "evalue": "",
     "output_type": "error",
     "traceback": [
      "\u001b[0;31m---------------------------------------------------------------------------\u001b[0m",
      "\u001b[0;31mAssertionError\u001b[0m                            Traceback (most recent call last)",
      "\u001b[0;32m/var/folders/g9/s15kjggj0bb9t_61f58dny800000gn/T/ipykernel_23328/2103537015.py\u001b[0m in \u001b[0;36m<module>\u001b[0;34m\u001b[0m\n\u001b[0;32m----> 1\u001b[0;31m \u001b[0;32massert\u001b[0m \u001b[0;32mFalse\u001b[0m\u001b[0;34m\u001b[0m\u001b[0;34m\u001b[0m\u001b[0m\n\u001b[0m",
      "\u001b[0;31mAssertionError\u001b[0m: "
     ]
    }
   ],
   "source": [
    "assert False"
   ]
  },
  {
   "cell_type": "code",
   "execution_count": 12,
   "metadata": {},
   "outputs": [
    {
     "data": {
      "application/javascript": "IPython.notebook.save_notebook()\n",
      "text/plain": [
       "<IPython.core.display.Javascript object>"
      ]
     },
     "metadata": {},
     "output_type": "display_data"
    }
   ],
   "source": [
    "%%javascript\n",
    "IPython.notebook.save_notebook()"
   ]
  }
 ],
 "metadata": {
  "kernelspec": {
   "display_name": "Python 3.9.13 ('base')",
   "language": "python",
   "name": "python3"
  },
  "language_info": {
   "codemirror_mode": {
    "name": "ipython",
    "version": 3
   },
   "file_extension": ".py",
   "mimetype": "text/x-python",
   "name": "python",
   "nbconvert_exporter": "python",
   "pygments_lexer": "ipython3",
   "version": "3.9.16"
  },
  "orig_nbformat": 4,
  "vscode": {
   "interpreter": {
    "hash": "cd3c9d5023b59bbf76df0671d88cc7bf09f82eb435b0d5ddd70bc0df95490860"
   }
  }
 },
 "nbformat": 4,
 "nbformat_minor": 2
}
