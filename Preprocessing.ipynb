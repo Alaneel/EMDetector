{
 "cells": [
  {
   "cell_type": "code",
   "execution_count": 1,
   "metadata": {},
   "outputs": [
    {
     "name": "stderr",
     "output_type": "stream",
     "text": [
      "2023-02-19 13:25:33.313402: I tensorflow/core/platform/cpu_feature_guard.cc:193] This TensorFlow binary is optimized with oneAPI Deep Neural Network Library (oneDNN) to use the following CPU instructions in performance-critical operations:  SSE4.1 SSE4.2\n",
      "To enable them in other operations, rebuild TensorFlow with the appropriate compiler flags.\n"
     ]
    },
    {
     "name": "stdout",
     "output_type": "stream",
     "text": [
      "TRAIN Value Count\n",
      "1    7215\n",
      "2    4965\n",
      "3    4830\n",
      "5    4097\n",
      "0    3995\n",
      "6    3171\n",
      "4     436\n",
      "dtype: int64\n",
      "~~~~~~~~~~~~~~~~~~~~~~~~~~~~~~~~~~~~~~~~~~~~~~\n",
      "TEST Value Count\n",
      "1    1774\n",
      "3    1247\n",
      "2    1233\n",
      "5    1024\n",
      "0     958\n",
      "6     831\n",
      "4     111\n",
      "dtype: int64\n",
      "~~~~~~~~~~~~~~~~~~~~~~~~~~~~~~~~~~~~~~~~~~~~~~\n"
     ]
    },
    {
     "name": "stderr",
     "output_type": "stream",
     "text": [
      "Getting Emotion Train Images: 100%|██████████| 28709/28709 [00:04<00:00, 6093.67it/s]\n",
      "Getting Emotion Test Images: 100%|██████████| 7178/7178 [00:01<00:00, 4108.43it/s]\n"
     ]
    },
    {
     "name": "stdout",
     "output_type": "stream",
     "text": [
      "Finished Pickling Emotions\n"
     ]
    }
   ],
   "source": [
    "import pickle\n",
    "from tqdm import tqdm\n",
    "import cv2\n",
    "import os\n",
    "import keras.utils as image\n",
    "import numpy as np\n",
    "import pandas as pd\n",
    "from keras.utils import to_categorical\n",
    "from sklearn.utils import shuffle as sk_shuffle\n",
    "from sklearn.model_selection import train_test_split\n",
    "from keras.applications.mobilenet_v2 import preprocess_input\n",
    "\n",
    "def get_image_value(path, dim, bw, model_type):\n",
    "    '''This function will read an imagea nd convert to a specified version and resize depending on which algorithm is being used'''\n",
    "    img = image.load_img(path, target_size = dim)\n",
    "    img = image.img_to_array(img)\n",
    "    if bw == True:\n",
    "        img = cv2.cvtColor(img, cv2.COLOR_BGR2GRAY)\n",
    "        img = img.reshape(img.shape[0], img.shape[1], 1)\n",
    "    if model_type == 'mobilenet':\n",
    "        img = preprocess_input(img)\n",
    "        return img\n",
    "    return img / 255\n",
    "\n",
    "def get_emotion_classes(class_type):\n",
    "    angry_paths = [f'EmotionDataset/{class_type}/angry/{i}' for i in os.listdir(f'EmotionDataset/{class_type}/angry')]\n",
    "    angry_labels = [0 for i in range(len(angry_paths))]\n",
    "\n",
    "    happy_paths = [f'EmotionDataset/{class_type}/happy/{i}' for i in os.listdir(f'EmotionDataset/{class_type}/happy')]\n",
    "    happy_labels = [1 for i in range(len(happy_paths))]\n",
    "\n",
    "    neutral_paths = [f'EmotionDataset/{class_type}/neutral/{i}' for i in os.listdir(f'EmotionDataset/{class_type}/neutral')]\n",
    "    neutral_labels = [2 for i in range(len(neutral_paths))]\n",
    "\n",
    "    sad_paths = [f'EmotionDataset/{class_type}/sad/{i}' for i in os.listdir(f'EmotionDataset/{class_type}/sad')]\n",
    "    sad_labels = [3 for i in range(len(sad_paths))]\n",
    "\n",
    "    disgust_paths = [f'EmotionDataset/{class_type}/disgust/{i}' for i in os.listdir(f'EmotionDataset/{class_type}/disgust')]\n",
    "    disgust_labels = [4 for i in range(len(disgust_paths))]\n",
    "\n",
    "    fear_paths = [f'EmotionDataset/{class_type}/fear/{i}' for i in os.listdir(f'EmotionDataset/{class_type}/fear')]\n",
    "    fear_labels = [5 for i in range(len(fear_paths))]\n",
    "\n",
    "    surprise_paths = [f'EmotionDataset/{class_type}/surprise/{i}' for i in os.listdir(f'EmotionDataset/{class_type}/surprise')]\n",
    "    surprise_labels = [6 for i in range(len(surprise_paths))]\n",
    "\n",
    "    labels = np.array(angry_labels + disgust_labels + fear_labels + happy_labels + neutral_labels + sad_labels + surprise_labels)\n",
    "\n",
    "    print(f'{class_type.upper()} Value Count')\n",
    "    print(pd.Series(labels).value_counts())\n",
    "    print('~~~~~~~~~~~~~~~~~~~~~~~~~~~~~~~~~~~~~~~~~~~~~~')\n",
    "    labels = to_categorical(labels)\n",
    "    paths = np.array(angry_paths + disgust_paths + fear_paths + happy_paths + neutral_paths + sad_paths + surprise_paths)\n",
    "    paths, labels = sk_shuffle(paths, labels)\n",
    "    return paths, labels\n",
    "# 0: angry || 1: happy || 2: neutral || 3: sad || 4: disgust || 5: fear || 6: surprise\n",
    "\n",
    "def get_emotion_splits(dim, pick_name, model_type = 'Mobilenet', bw = False):\n",
    "\n",
    "    # Train\n",
    "\n",
    "    train_paths, train_labels = get_emotion_classes('train')\n",
    "    test_paths, test_labels = get_emotion_classes('test')\n",
    "\n",
    "    train_images = np.array([get_image_value(i, dim, bw, model_type) for i in tqdm(train_paths, desc = 'Getting Emotion Train Images')])\n",
    "    test_images = np.array([get_image_value(i, dim, bw, model_type) for i in tqdm(test_paths, desc = 'Getting Emotion Test Images')])\n",
    "\n",
    "    if model_type == 'Mobilenet' and bw == True:\n",
    "        train_images = np.stack((train_images, ) * 3, axis = -1)\n",
    "        test_images = np.stack((test_images, ) * 3, axis = -1)\n",
    "\n",
    "    tts = (train_images, test_images, train_labels, test_labels)\n",
    "\n",
    "    pickle.dump(tts, open(f'Pickles/TTSEmotion_{pick_name}.p', 'wb'), protocol = 4)\n",
    "    print('Finished Pickling Emotions')\n",
    "\n",
    "dim = (48, 48)\n",
    "tts = get_emotion_splits(dim, pick_name = 'Mobilenet', bw = False)"
   ]
  },
  {
   "cell_type": "code",
   "execution_count": 2,
   "metadata": {},
   "outputs": [
    {
     "name": "stdout",
     "output_type": "stream",
     "text": [
      "TRAIN Value Counts\n",
      "1    5000\n",
      "0    5000\n",
      "dtype: int64\n",
      "~~~~~~~~~~~~~~~~~~~~~~~~~~~~~~~~~~~~~~~~~~~~~\n"
     ]
    },
    {
     "name": "stderr",
     "output_type": "stream",
     "text": [
      "Getting Train Images: 100%|██████████| 10000/10000 [00:12<00:00, 810.91it/s]\n"
     ]
    },
    {
     "name": "stdout",
     "output_type": "stream",
     "text": [
      "TEST Value Counts\n",
      "0    509\n",
      "1    483\n",
      "dtype: int64\n",
      "~~~~~~~~~~~~~~~~~~~~~~~~~~~~~~~~~~~~~~~~~~~~~\n"
     ]
    },
    {
     "name": "stderr",
     "output_type": "stream",
     "text": [
      "Getting Test Images: 100%|██████████| 992/992 [00:01<00:00, 826.66it/s]\n"
     ]
    },
    {
     "name": "stdout",
     "output_type": "stream",
     "text": [
      "VALIDATION Value Counts\n",
      "1    400\n",
      "0    400\n",
      "dtype: int64\n",
      "~~~~~~~~~~~~~~~~~~~~~~~~~~~~~~~~~~~~~~~~~~~~~\n"
     ]
    },
    {
     "name": "stderr",
     "output_type": "stream",
     "text": [
      "Getting Validation Images: 100%|██████████| 800/800 [00:00<00:00, 880.04it/s]\n"
     ]
    },
    {
     "name": "stdout",
     "output_type": "stream",
     "text": [
      "Pickling The Data\n",
      "Finished Pickling\n"
     ]
    }
   ],
   "source": [
    "def get_mask_classes(class_type):\n",
    "    mask_paths = [f'FaceMaskDataset/{class_type}/WithMask/{i}' for i in os.listdir(f'FaceMaskDataset/{class_type}/WithMask')]\n",
    "    mask_labels = [1 for i in range(len(mask_paths))]\n",
    "\n",
    "    nomask_paths = [f'FaceMaskDataset/{class_type}/WithoutMask/{i}' for i in os.listdir(f'FaceMaskDataset/{class_type}/WithoutMask')]\n",
    "    nomask_labels = [0 for i in range(len(nomask_paths))]\n",
    "\n",
    "    labels = np.array(mask_labels + nomask_labels)\n",
    "    print(f'{class_type.upper()} Value Counts')\n",
    "    print(pd.Series(labels).value_counts())\n",
    "    print('~~~~~~~~~~~~~~~~~~~~~~~~~~~~~~~~~~~~~~~~~~~~~')\n",
    "    paths = np.array(mask_paths + nomask_paths)\n",
    "    labels = to_categorical(labels)\n",
    "    paths, labels = sk_shuffle(paths, labels)\n",
    "    return paths, labels\n",
    "\n",
    "def get_mask_splits(dim, pick_name = None, model_type = 'Mobilenet', bw = False):\n",
    "\n",
    "    # Train Set\n",
    "    train_paths, train_labels = get_mask_classes('Train')\n",
    "    train_images = np.array([get_image_value(i, dim, bw, model_type) for i in tqdm(train_paths, desc = 'Getting Train Images')])\n",
    "    train_dict = dict(images = train_images, labels = train_labels)\n",
    "\n",
    "    # Test Set\n",
    "    test_paths, test_labels = get_mask_classes('Test')\n",
    "    test_images = np.array([get_image_value(i, dim, bw, model_type) for i in tqdm(test_paths, desc = 'Getting Test Images')])\n",
    "    test_dict = dict(images = test_images, labels = test_labels)\n",
    "\n",
    "    # Validation Set\n",
    "    val_paths, val_labels = get_mask_classes('Validation')\n",
    "    val_images = np.array([get_image_value(i, dim, bw, model_type) for i in tqdm(val_paths, desc = 'Getting Validation Images')])\n",
    "    val_dict = dict(images = val_images, labels = val_labels)\n",
    "\n",
    "    tts = train_images, test_images, train_labels, test_labels, val_images, val_labels\n",
    "\n",
    "    print('Pickling The Data')\n",
    "    pickle.dump(tts, open(f'Pickles/TTSMask_{pick_name}.p', 'wb'), protocol = 4)\n",
    "    print('Finished Pickling')\n",
    "    return tts\n",
    "\n",
    "dim = (150, 150)\n",
    "return_dict = get_mask_splits(dim, pick_name = 'Normal1', model_type = 'Normal', bw = False) "
   ]
  }
 ],
 "metadata": {
  "kernelspec": {
   "display_name": "Python 3.10.9 ('base')",
   "language": "python",
   "name": "python3"
  },
  "language_info": {
   "codemirror_mode": {
    "name": "ipython",
    "version": 3
   },
   "file_extension": ".py",
   "mimetype": "text/x-python",
   "name": "python",
   "nbconvert_exporter": "python",
   "pygments_lexer": "ipython3",
   "version": "3.10.9"
  },
  "orig_nbformat": 4,
  "vscode": {
   "interpreter": {
    "hash": "e6ba05930a7900094aee33f851d8c1601ec69d16b33811ce7aaa1e051b38dd32"
   }
  }
 },
 "nbformat": 4,
 "nbformat_minor": 2
}
